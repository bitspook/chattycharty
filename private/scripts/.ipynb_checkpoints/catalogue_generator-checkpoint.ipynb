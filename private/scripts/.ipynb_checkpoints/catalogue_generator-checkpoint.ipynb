{
 "metadata": {
  "name": "",
  "signature": "sha256:c70d6f66650fba4240e1b32c0abeead72f9c1b7ccae9e0e8cb61c7c090822663"
 },
 "nbformat": 3,
 "nbformat_minor": 0,
 "worksheets": [
  {
   "cells": [
    {
     "cell_type": "code",
     "collapsed": false,
     "input": [],
     "language": "python",
     "metadata": {},
     "outputs": []
    },
    {
     "cell_type": "code",
     "collapsed": false,
     "input": [
      "#add cataologe to ChatCatalogue collection in mongo\n",
      "ChatCatalogue.drop()\n",
      "for doc in catalogue:\n",
      "    ChatCatalogue.insert(catalogue[doc])"
     ],
     "language": "python",
     "metadata": {},
     "outputs": [],
     "prompt_number": 79
    },
    {
     "cell_type": "code",
     "collapsed": false,
     "input": [
      "#for each chat_id in catalogue, fetch a doc from Chats collection and populate catalogue's location and location_code fields\n",
      "for doc in catalogue:\n",
      "    record = Chats.find_one({'chat_id': doc})\n",
      "    if not record:\n",
      "        break\n",
      "    if record.has_key('location'):\n",
      "        catalogue[doc]['location'] = record['location']\n",
      "        catalogue[doc]['location_code'] = record['location_code']\n",
      "\n",
      "print len(catalogue)"
     ],
     "language": "python",
     "metadata": {},
     "outputs": [
      {
       "output_type": "stream",
       "stream": "stdout",
       "text": [
        "10157\n"
       ]
      }
     ],
     "prompt_number": 78
    },
    {
     "cell_type": "code",
     "collapsed": false,
     "input": [
      "import re\n",
      "# for each chat_id, create a chat_catalogue\n",
      "catalogue = {}\n",
      "for doc in docs:\n",
      "    cur_doc = docs[doc]\n",
      "    for sub_doc in cur_doc:\n",
      "        if not catalogue.has_key(doc):\n",
      "            catalogue[doc] = {\n",
      "                'chat_id' : doc,\n",
      "                'messages': [],\n",
      "                'chat_location_context': sub_doc['chat_location_context'],\n",
      "                'location' : '',\n",
      "                'location_code': ''\n",
      "            }\n",
      "        if sub_doc['Chat Message']:\n",
      "            catalogue[doc]['messages'].append({\"message\": unicode(sub_doc['Chat Message'], 'utf-8', 'ignore'), 'timestamp': sub_doc['UNIX Time Stamp']})\n",
      "\n",
      "print len(catalogue)"
     ],
     "language": "python",
     "metadata": {},
     "outputs": [
      {
       "output_type": "stream",
       "stream": "stdout",
       "text": [
        "10157\n"
       ]
      }
     ],
     "prompt_number": 77
    },
    {
     "cell_type": "code",
     "collapsed": false,
     "input": [
      "from pymongo import MongoClient\n",
      "import csv\n",
      "\n",
      "client = MongoClient('localhost', 3001)\n",
      "db = client['meteor']\n",
      "\n",
      "Chats = db.chats\n",
      "ChatCatalogue = db.chat_catalogue\n",
      "\n",
      "chat_file_path = '../data/hackathon_chat_data.csv'\n",
      "\n",
      "docs = {}\n",
      "\n",
      "with open(chat_file_path) as chat_file:\n",
      "    reader = csv.DictReader(chat_file, delimiter=',')\n",
      "    for row in reader:\n",
      "        # collect all the documents that belong to same chat_id\n",
      "        if not docs.has_key(row['Chat ID']):\n",
      "            docs[row['Chat ID']] = []\n",
      "        docs[row['Chat ID']].append(row)\n",
      "\n",
      "print 'docs'"
     ],
     "language": "python",
     "metadata": {},
     "outputs": [
      {
       "output_type": "stream",
       "stream": "stdout",
       "text": [
        "docs\n"
       ]
      }
     ],
     "prompt_number": 28
    }
   ],
   "metadata": {}
  }
 ]
}